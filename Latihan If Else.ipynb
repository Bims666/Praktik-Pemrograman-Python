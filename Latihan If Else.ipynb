{
 "cells": [
  {
   "cell_type": "code",
   "execution_count": 9,
   "id": "d5092a9d",
   "metadata": {},
   "outputs": [
    {
     "name": "stdout",
     "output_type": "stream",
     "text": [
      "Masukan usia anda = 30\n",
      "Apakah kamu sudah bekerja(Y/N) =Y\n",
      "Masukan pendapatan perbulan = 1500000\n",
      "Masukan jumlah tanggungan = 8\n",
      "------------------------------------------------\n",
      "Anda masuk kategori penduduk miskin\n"
     ]
    }
   ],
   "source": [
    "    umur = int(input('Masukan usia anda = '))\n",
    "    if umur >= 18:\n",
    "        statusKerja = str(input('Apakah kamu sudah bekerja(Y/N) ='))\n",
    "        if statusKerja == 'Y':\n",
    "            gaji = int(input('Masukan pendapatan perbulan = '))\n",
    "            tanggungan = int(input('Masukan jumlah tanggungan = '))\n",
    "            biayaHidup = gaji/tanggungan\n",
    "            if (biayaHidup <300000):\n",
    "                print('------------------------------------------------')\n",
    "                print('Anda masuk kategori penduduk miskin')\n",
    "            else:\n",
    "                print('------------------------------------------------')\n",
    "                print('Anda masuk kategori penduduk bukan miskin')\n",
    "        else:\n",
    "            print('------------------------------------------------')\n",
    "            print('Anda masuk kategori penduduk miskin')\n",
    "    else:\n",
    "        statusSekolah = str(input('Apakah kamu masih sekolah(Y/N) ='))\n",
    "        if statusSekolah == 'Y':\n",
    "            print('------------------------------------------------')\n",
    "            print('Anda masuk kategori bukan miskin')\n",
    "        else:\n",
    "            print('------------------------------------------------')\n",
    "            print('Anda masuk kategori penduduk miskin')    "
   ]
  },
  {
   "cell_type": "code",
   "execution_count": null,
   "id": "984153de",
   "metadata": {},
   "outputs": [],
   "source": []
  },
  {
   "cell_type": "code",
   "execution_count": null,
   "id": "40509839",
   "metadata": {},
   "outputs": [],
   "source": []
  }
 ],
 "metadata": {
  "kernelspec": {
   "display_name": "Python 3 (ipykernel)",
   "language": "python",
   "name": "python3"
  },
  "language_info": {
   "codemirror_mode": {
    "name": "ipython",
    "version": 3
   },
   "file_extension": ".py",
   "mimetype": "text/x-python",
   "name": "python",
   "nbconvert_exporter": "python",
   "pygments_lexer": "ipython3",
   "version": "3.9.12"
  }
 },
 "nbformat": 4,
 "nbformat_minor": 5
}
